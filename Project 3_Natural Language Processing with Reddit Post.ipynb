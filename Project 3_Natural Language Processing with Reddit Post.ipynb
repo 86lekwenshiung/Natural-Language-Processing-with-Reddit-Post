{
 "cells": [
  {
   "cell_type": "code",
   "execution_count": 36,
   "id": "3bed7724",
   "metadata": {},
   "outputs": [],
   "source": [
    "import time\n",
    "from time import sleep\n",
    "import requests\n",
    "\n",
    "import pandas as pd\n",
    "import numpy as np\n",
    "\n",
    "pd.set_option('display.max_colwidth' , 300)"
   ]
  },
  {
   "cell_type": "code",
   "execution_count": 46,
   "id": "1e885124",
   "metadata": {},
   "outputs": [],
   "source": [
    "def red_scrap(title):\n",
    "    url = 'https://api.pushshift.io/reddit/search/submission'\n",
    "    df_load = []\n",
    "    params = {\n",
    "        'subreddit': title,\n",
    "        'size' : 100,\n",
    "        'before': None\n",
    "    }\n",
    "    for i in range(14):\n",
    "        # Access Reddit API\n",
    "        res = requests.get(url,params)\n",
    "        data = res.json()\n",
    "        posts = data['data']\n",
    "        \n",
    "        \n",
    "        df_new = pd.DataFrame(posts)\n",
    "        df_load.append(df_new)\n",
    "        \n",
    "        # Initiating new time stamp (100th position of the 100 size) for before in params\n",
    "        params['before'] = df_new['created_utc'][99]\n",
    "        \n",
    "        # Extract to CSV\n",
    "        df = pd.concat(df_load, ignore_index = True)\n",
    "        df.to_csv(f'{title}.csv')\n",
    "        time.sleep(20)\n",
    "        print(f'{i+1} Iterations completed')\n",
    "        \n",
    "    return df"
   ]
  },
  {
   "cell_type": "code",
   "execution_count": 49,
   "id": "56bae9af",
   "metadata": {},
   "outputs": [
    {
     "name": "stdout",
     "output_type": "stream",
     "text": [
      "1 Iterations completed\n",
      "2 Iterations completed\n",
      "3 Iterations completed\n",
      "4 Iterations completed\n",
      "5 Iterations completed\n",
      "6 Iterations completed\n",
      "7 Iterations completed\n",
      "8 Iterations completed\n",
      "9 Iterations completed\n",
      "10 Iterations completed\n",
      "11 Iterations completed\n",
      "12 Iterations completed\n",
      "13 Iterations completed\n",
      "14 Iterations completed\n"
     ]
    }
   ],
   "source": [
    "df_fakenews = red_scrap('fakenews')"
   ]
  },
  {
   "cell_type": "code",
   "execution_count": 53,
   "id": "f9b31f95",
   "metadata": {},
   "outputs": [
    {
     "data": {
      "text/plain": [
       "False    1218\n",
       "True      182\n",
       "Name: title, dtype: int64"
      ]
     },
     "execution_count": 53,
     "metadata": {},
     "output_type": "execute_result"
    }
   ],
   "source": [
    "df_fakenews['title'].str.contains('fake').value_counts()"
   ]
  },
  {
   "cell_type": "code",
   "execution_count": null,
   "id": "b60c68c6",
   "metadata": {},
   "outputs": [],
   "source": [
    "time_value = []\n",
    "for value in df_fakenews['created_utc']:\n",
    "    time_value.append(time.strftime('%Y-%m-%d %H:%M:%S', time.localtime(value)))\n",
    "df_fakenews['created_utc'] = time_value\n",
    "df_fakenews['created_utc']"
   ]
  },
  {
   "cell_type": "code",
   "execution_count": 67,
   "id": "f9df423a",
   "metadata": {},
   "outputs": [],
   "source": [
    "df_fakenews[['created_utc']] = df_fakenews[['created_utc']].astype('datetime64[ns]')"
   ]
  }
 ],
 "metadata": {
  "kernelspec": {
   "display_name": "Python 3",
   "language": "python",
   "name": "python3"
  },
  "language_info": {
   "codemirror_mode": {
    "name": "ipython",
    "version": 3
   },
   "file_extension": ".py",
   "mimetype": "text/x-python",
   "name": "python",
   "nbconvert_exporter": "python",
   "pygments_lexer": "ipython3",
   "version": "3.8.5"
  },
  "latex_envs": {
   "LaTeX_envs_menu_present": true,
   "autoclose": false,
   "autocomplete": true,
   "bibliofile": "biblio.bib",
   "cite_by": "apalike",
   "current_citInitial": 1,
   "eqLabelWithNumbers": true,
   "eqNumInitial": 1,
   "hotkeys": {
    "equation": "Ctrl-E",
    "itemize": "Ctrl-I"
   },
   "labels_anchors": false,
   "latex_user_defs": false,
   "report_style_numbering": false,
   "user_envs_cfg": false
  }
 },
 "nbformat": 4,
 "nbformat_minor": 5
}
