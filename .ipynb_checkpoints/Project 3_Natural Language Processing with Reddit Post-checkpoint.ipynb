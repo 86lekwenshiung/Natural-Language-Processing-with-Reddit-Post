{
 "cells": [
  {
   "cell_type": "markdown",
   "id": "323b2585",
   "metadata": {},
   "source": [
    "<a id = 'content'><a/>\n",
    "### Content page\n",
    "___"
   ]
  },
  {
   "cell_type": "markdown",
   "id": "0a19ac36",
   "metadata": {},
   "source": [
    "<a id = 'section_0'><a/>\n",
    "# 0.0 Function Creation\n",
    "___"
   ]
  },
  {
   "cell_type": "code",
   "execution_count": 89,
   "id": "3bed7724",
   "metadata": {},
   "outputs": [],
   "source": [
    "import time\n",
    "from time import sleep\n",
    "import requests\n",
    "\n",
    "import pandas as pd\n",
    "import numpy as np\n",
    "import random\n",
    "\n",
    "pd.set_option('display.max_colwidth' , 300)"
   ]
  },
  {
   "cell_type": "code",
   "execution_count": 46,
   "id": "1e885124",
   "metadata": {},
   "outputs": [],
   "source": [
    "def red_scrap(title):\n",
    "    url = 'https://api.pushshift.io/reddit/search/submission'\n",
    "    df_load = []\n",
    "    params = {\n",
    "        'subreddit': title,\n",
    "        'size' : 100,\n",
    "        'before': None\n",
    "    }\n",
    "    for i in range(14):\n",
    "        # Access Reddit API\n",
    "        res = requests.get(url,params)\n",
    "        data = res.json()\n",
    "        posts = data['data']\n",
    "        \n",
    "        \n",
    "        df_new = pd.DataFrame(posts)\n",
    "        df_load.append(df_new)\n",
    "        \n",
    "        # Initiating new time stamp (100th position of the 100 size) for before in params\n",
    "        params['before'] = df_new['created_utc'][99]\n",
    "        \n",
    "        # Extract to CSV\n",
    "        df = pd.concat(df_load, ignore_index = True)\n",
    "        df.to_csv(f'{title}.csv')\n",
    "        time.sleep(20)\n",
    "        print(f'{i+1} Iterations completed')\n",
    "        \n",
    "    return df"
   ]
  },
  {
   "cell_type": "code",
   "execution_count": 49,
   "id": "56bae9af",
   "metadata": {},
   "outputs": [
    {
     "name": "stdout",
     "output_type": "stream",
     "text": [
      "1 Iterations completed\n",
      "2 Iterations completed\n",
      "3 Iterations completed\n",
      "4 Iterations completed\n",
      "5 Iterations completed\n",
      "6 Iterations completed\n",
      "7 Iterations completed\n",
      "8 Iterations completed\n",
      "9 Iterations completed\n",
      "10 Iterations completed\n",
      "11 Iterations completed\n",
      "12 Iterations completed\n",
      "13 Iterations completed\n",
      "14 Iterations completed\n"
     ]
    }
   ],
   "source": [
    "# df_fakenews = red_scrap('fakenews')"
   ]
  },
  {
   "cell_type": "code",
   "execution_count": null,
   "id": "71f4ec37",
   "metadata": {},
   "outputs": [],
   "source": [
    "df_"
   ]
  },
  {
   "cell_type": "code",
   "execution_count": 75,
   "id": "b60c68c6",
   "metadata": {
    "scrolled": false
   },
   "outputs": [],
   "source": [
    "def date_conversion(df , column):\n",
    "\n",
    "    time_value = []\n",
    "    for value in df[column]:\n",
    "        time_value.append(time.strftime('%Y-%m-%d %H:%M:%S', time.localtime(value)))\n",
    "        \n",
    "    df[column] = time_value\n",
    "    df[[column]] = df[[column]].astype('datetime64[ns]')\n",
    "    return df"
   ]
  },
  {
   "cell_type": "markdown",
   "id": "7d5a464f",
   "metadata": {},
   "source": [
    "<a id = 'section_1'><a/>\n",
    "# 1.0 Data Exploration\n",
    "___\n",
    "[(back to top)](#content)"
   ]
  },
  {
   "cell_type": "code",
   "execution_count": 84,
   "id": "5b29d7e0",
   "metadata": {},
   "outputs": [],
   "source": [
    "df_fakenews = pd.read_csv('fakenews.csv')\n",
    "df_fakenews = df_fakenews[['title' , 'subreddit' , 'created_utc']]\n",
    "\n",
    "# Changing datetime format\n",
    "df_fakenews = date_conversion(df_fakenews , 'created_utc')"
   ]
  },
  {
   "cell_type": "code",
   "execution_count": 85,
   "id": "6500940b",
   "metadata": {},
   "outputs": [
    {
     "name": "stdout",
     "output_type": "stream",
     "text": [
      "No. of Datasets : 1400\n",
      "Shape of Datasets : (1400, 3)\n"
     ]
    }
   ],
   "source": [
    "print(f'No. of Datasets : {len(df_fakenews)}')\n",
    "print(f'Shape of Datasets : {df_fakenews.shape}')"
   ]
  },
  {
   "cell_type": "markdown",
   "id": "11459b05",
   "metadata": {},
   "source": [
    "### 1.0 Checking for Duplicates and Null\n",
    "___"
   ]
  },
  {
   "cell_type": "code",
   "execution_count": 86,
   "id": "801488d7",
   "metadata": {},
   "outputs": [
    {
     "name": "stdout",
     "output_type": "stream",
     "text": [
      "No. of Duplicate Cell : 0\n",
      "No. of Null Cell : 0\n"
     ]
    }
   ],
   "source": [
    "print(f'No. of Duplicate Cell : {df_fakenews.duplicated().sum()}')\n",
    "print(f'No. of Null Cell : {df_fakenews.isnull().sum().sum()}')"
   ]
  },
  {
   "cell_type": "markdown",
   "id": "1407f8d5",
   "metadata": {},
   "source": [
    "### 1.1 Checking for Data Leakage\n",
    "___"
   ]
  },
  {
   "cell_type": "code",
   "execution_count": 105,
   "id": "f9b31f95",
   "metadata": {},
   "outputs": [
    {
     "data": {
      "text/plain": [
       "False    1218\n",
       "Name: title, dtype: int64"
      ]
     },
     "execution_count": 105,
     "metadata": {},
     "output_type": "execute_result"
    }
   ],
   "source": [
    "df_fakenews['title'].str.contains('fake').value_counts()"
   ]
  },
  {
   "cell_type": "code",
   "execution_count": 102,
   "id": "6531ec73",
   "metadata": {},
   "outputs": [
    {
     "data": {
      "text/html": [
       "<div>\n",
       "<style scoped>\n",
       "    .dataframe tbody tr th:only-of-type {\n",
       "        vertical-align: middle;\n",
       "    }\n",
       "\n",
       "    .dataframe tbody tr th {\n",
       "        vertical-align: top;\n",
       "    }\n",
       "\n",
       "    .dataframe thead th {\n",
       "        text-align: right;\n",
       "    }\n",
       "</style>\n",
       "<table border=\"1\" class=\"dataframe\">\n",
       "  <thead>\n",
       "    <tr style=\"text-align: right;\">\n",
       "      <th></th>\n",
       "      <th>title</th>\n",
       "      <th>subreddit</th>\n",
       "      <th>created_utc</th>\n",
       "    </tr>\n",
       "  </thead>\n",
       "  <tbody>\n",
       "    <tr>\n",
       "      <th>0</th>\n",
       "      <td>Magic in a LIVE Broadcast ABC have to see!</td>\n",
       "      <td>fakenews</td>\n",
       "      <td>2021-08-28 20:52:06</td>\n",
       "    </tr>\n",
       "    <tr>\n",
       "      <th>1</th>\n",
       "      <td>ABC anchor nominated for a Pulitzer</td>\n",
       "      <td>fakenews</td>\n",
       "      <td>2021-08-26 23:00:36</td>\n",
       "    </tr>\n",
       "    <tr>\n",
       "      <th>2</th>\n",
       "      <td>Never forget MK Ultra</td>\n",
       "      <td>fakenews</td>\n",
       "      <td>2021-08-25 22:16:04</td>\n",
       "    </tr>\n",
       "    <tr>\n",
       "      <th>3</th>\n",
       "      <td>Actual Story Behind the Men Who Stare at Goats</td>\n",
       "      <td>fakenews</td>\n",
       "      <td>2021-08-24 23:37:24</td>\n",
       "    </tr>\n",
       "    <tr>\n",
       "      <th>5</th>\n",
       "      <td>Taliban “declaration of Emirate”</td>\n",
       "      <td>fakenews</td>\n",
       "      <td>2021-08-21 21:54:16</td>\n",
       "    </tr>\n",
       "    <tr>\n",
       "      <th>...</th>\n",
       "      <td>...</td>\n",
       "      <td>...</td>\n",
       "      <td>...</td>\n",
       "    </tr>\n",
       "    <tr>\n",
       "      <th>1395</th>\n",
       "      <td>IPHONE 12 COLOR REVEALED</td>\n",
       "      <td>fakenews</td>\n",
       "      <td>2019-10-25 17:45:16</td>\n",
       "    </tr>\n",
       "    <tr>\n",
       "      <th>1396</th>\n",
       "      <td>LeBron To NBA:’Dump The Anthem Or I’ll Quit’</td>\n",
       "      <td>fakenews</td>\n",
       "      <td>2019-10-25 11:00:21</td>\n",
       "    </tr>\n",
       "    <tr>\n",
       "      <th>1397</th>\n",
       "      <td>My phone had two notifications today, using 2 angles of the same story — what should I believe?!?</td>\n",
       "      <td>fakenews</td>\n",
       "      <td>2019-10-25 09:30:19</td>\n",
       "    </tr>\n",
       "    <tr>\n",
       "      <th>1398</th>\n",
       "      <td>Did You Know That Fake News Is Not New? (Article link in comments.)</td>\n",
       "      <td>fakenews</td>\n",
       "      <td>2019-10-24 16:14:41</td>\n",
       "    </tr>\n",
       "    <tr>\n",
       "      <th>1399</th>\n",
       "      <td>Selective Perception Puzzle Mystery: What do you see?</td>\n",
       "      <td>fakenews</td>\n",
       "      <td>2019-10-24 16:05:05</td>\n",
       "    </tr>\n",
       "  </tbody>\n",
       "</table>\n",
       "<p>1218 rows × 3 columns</p>\n",
       "</div>"
      ],
      "text/plain": [
       "                                                                                                  title  \\\n",
       "0                                                            Magic in a LIVE Broadcast ABC have to see!   \n",
       "1                                                                   ABC anchor nominated for a Pulitzer   \n",
       "2                                                                                 Never forget MK Ultra   \n",
       "3                                                        Actual Story Behind the Men Who Stare at Goats   \n",
       "5                                                                      Taliban “declaration of Emirate”   \n",
       "...                                                                                                 ...   \n",
       "1395                                                                           IPHONE 12 COLOR REVEALED   \n",
       "1396                                                       LeBron To NBA:’Dump The Anthem Or I’ll Quit’   \n",
       "1397  My phone had two notifications today, using 2 angles of the same story — what should I believe?!?   \n",
       "1398                                Did You Know That Fake News Is Not New? (Article link in comments.)   \n",
       "1399                                              Selective Perception Puzzle Mystery: What do you see?   \n",
       "\n",
       "     subreddit         created_utc  \n",
       "0     fakenews 2021-08-28 20:52:06  \n",
       "1     fakenews 2021-08-26 23:00:36  \n",
       "2     fakenews 2021-08-25 22:16:04  \n",
       "3     fakenews 2021-08-24 23:37:24  \n",
       "5     fakenews 2021-08-21 21:54:16  \n",
       "...        ...                 ...  \n",
       "1395  fakenews 2019-10-25 17:45:16  \n",
       "1396  fakenews 2019-10-25 11:00:21  \n",
       "1397  fakenews 2019-10-25 09:30:19  \n",
       "1398  fakenews 2019-10-24 16:14:41  \n",
       "1399  fakenews 2019-10-24 16:05:05  \n",
       "\n",
       "[1218 rows x 3 columns]"
      ]
     },
     "execution_count": 102,
     "metadata": {},
     "output_type": "execute_result"
    }
   ],
   "source": [
    "df_fakenews = df_fakenews.loc[~df_fakenews['title'].str.contains('fake')]\n",
    "df_fakenews"
   ]
  },
  {
   "cell_type": "markdown",
   "id": "8e2d8572",
   "metadata": {},
   "source": [
    "### 1.2 Visualing Some Random Text\n",
    "___"
   ]
  },
  {
   "cell_type": "code",
   "execution_count": 99,
   "id": "64bbcad9",
   "metadata": {},
   "outputs": [
    {
     "name": "stdout",
     "output_type": "stream",
     "text": [
      "Why People Believe in Misinformation\n",
      "Looking to link this lawyer to GF's cases to verify claim.\n",
      "It doesn’t work....it may work...it doesn’t work..it does work...here’s what your reliable sources are saying. So I ask you, why believe anything the media says when they obviously don’t know what’s up and what’s down?\n",
      "Proof Coronavirus Reporting Is Fake News\n",
      ".\n",
      "Are you serious?\n",
      "New Study Finds Major Flaws With Twitter Fact Checking Program Birdwatch\n",
      "Why do politicians keep breathing life into the false conspiracy theory that the coronavirus is a bioweapon?\n",
      "Lightning Fact Check: Wolff Ernst and Quarantyranny\n",
      "People who engage with false news are hyper-concerned about truth. But they think it’s being hidden.\n"
     ]
    }
   ],
   "source": [
    "random_sentences = random.sample(df_fakenews['title'].to_list() , 10)\n",
    "for sentence in random_sentences:\n",
    "    print(sentence)"
   ]
  },
  {
   "cell_type": "code",
   "execution_count": null,
   "id": "2e6285de",
   "metadata": {},
   "outputs": [],
   "source": []
  }
 ],
 "metadata": {
  "kernelspec": {
   "display_name": "Python 3",
   "language": "python",
   "name": "python3"
  },
  "language_info": {
   "codemirror_mode": {
    "name": "ipython",
    "version": 3
   },
   "file_extension": ".py",
   "mimetype": "text/x-python",
   "name": "python",
   "nbconvert_exporter": "python",
   "pygments_lexer": "ipython3",
   "version": "3.8.5"
  },
  "latex_envs": {
   "LaTeX_envs_menu_present": true,
   "autoclose": false,
   "autocomplete": true,
   "bibliofile": "biblio.bib",
   "cite_by": "apalike",
   "current_citInitial": 1,
   "eqLabelWithNumbers": true,
   "eqNumInitial": 1,
   "hotkeys": {
    "equation": "Ctrl-E",
    "itemize": "Ctrl-I"
   },
   "labels_anchors": false,
   "latex_user_defs": false,
   "report_style_numbering": false,
   "user_envs_cfg": false
  }
 },
 "nbformat": 4,
 "nbformat_minor": 5
}
